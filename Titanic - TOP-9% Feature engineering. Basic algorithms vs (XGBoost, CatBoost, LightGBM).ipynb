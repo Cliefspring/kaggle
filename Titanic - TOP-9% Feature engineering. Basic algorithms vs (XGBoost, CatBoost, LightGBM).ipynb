{
 "cells": [
  {
   "cell_type": "markdown",
   "metadata": {},
   "source": [
    "## Import Libraries"
   ]
  },
  {
   "cell_type": "code",
   "execution_count": 1,
   "metadata": {},
   "outputs": [],
   "source": [
    "import pandas as pd\n",
    "import numpy as np\n",
    "import matplotlib.pyplot as plt\n",
    "import seaborn as sn\n",
    "import time\n",
    "pd.options.display.max_columns = 50"
   ]
  },
  {
   "cell_type": "markdown",
   "metadata": {},
   "source": [
    "## Import data"
   ]
  },
  {
   "cell_type": "code",
   "execution_count": 2,
   "metadata": {},
   "outputs": [
    {
     "data": {
      "text/plain": [
       "((891, 12), (418, 11))"
      ]
     },
     "execution_count": 2,
     "metadata": {},
     "output_type": "execute_result"
    }
   ],
   "source": [
    "train = pd.read_csv('train.csv')\n",
    "test = pd.read_csv('test.csv')\n",
    "train.shape, test.shape"
   ]
  },
  {
   "cell_type": "markdown",
   "metadata": {},
   "source": [
    "### EDA and Feature Engineering"
   ]
  },
  {
   "cell_type": "markdown",
   "metadata": {},
   "source": [
    "#### Pclass, Sex and Embarked "
   ]
  },
  {
   "cell_type": "code",
   "execution_count": 3,
   "metadata": {
    "scrolled": true
   },
   "outputs": [
    {
     "data": {
      "text/html": [
       "<div>\n",
       "<style scoped>\n",
       "    .dataframe tbody tr th:only-of-type {\n",
       "        vertical-align: middle;\n",
       "    }\n",
       "\n",
       "    .dataframe tbody tr th {\n",
       "        vertical-align: top;\n",
       "    }\n",
       "\n",
       "    .dataframe thead th {\n",
       "        text-align: right;\n",
       "    }\n",
       "</style>\n",
       "<table border=\"1\" class=\"dataframe\">\n",
       "  <thead>\n",
       "    <tr style=\"text-align: right;\">\n",
       "      <th></th>\n",
       "      <th>PassengerId</th>\n",
       "      <th>Survived</th>\n",
       "      <th>Pclass</th>\n",
       "      <th>Name</th>\n",
       "      <th>Sex</th>\n",
       "      <th>Age</th>\n",
       "      <th>SibSp</th>\n",
       "      <th>Parch</th>\n",
       "      <th>Ticket</th>\n",
       "      <th>Fare</th>\n",
       "      <th>Cabin</th>\n",
       "      <th>Embarked</th>\n",
       "    </tr>\n",
       "  </thead>\n",
       "  <tbody>\n",
       "    <tr>\n",
       "      <th>256</th>\n",
       "      <td>257</td>\n",
       "      <td>1</td>\n",
       "      <td>1</td>\n",
       "      <td>Thorne, Mrs. Gertrude Maybelle</td>\n",
       "      <td>female</td>\n",
       "      <td>NaN</td>\n",
       "      <td>0</td>\n",
       "      <td>0</td>\n",
       "      <td>PC 17585</td>\n",
       "      <td>79.200</td>\n",
       "      <td>NaN</td>\n",
       "      <td>C</td>\n",
       "    </tr>\n",
       "    <tr>\n",
       "      <th>244</th>\n",
       "      <td>245</td>\n",
       "      <td>0</td>\n",
       "      <td>3</td>\n",
       "      <td>Attalah, Mr. Sleiman</td>\n",
       "      <td>male</td>\n",
       "      <td>30.0</td>\n",
       "      <td>0</td>\n",
       "      <td>0</td>\n",
       "      <td>2694</td>\n",
       "      <td>7.225</td>\n",
       "      <td>NaN</td>\n",
       "      <td>C</td>\n",
       "    </tr>\n",
       "    <tr>\n",
       "      <th>863</th>\n",
       "      <td>864</td>\n",
       "      <td>0</td>\n",
       "      <td>3</td>\n",
       "      <td>Sage, Miss. Dorothy Edith \"Dolly\"</td>\n",
       "      <td>female</td>\n",
       "      <td>NaN</td>\n",
       "      <td>8</td>\n",
       "      <td>2</td>\n",
       "      <td>CA. 2343</td>\n",
       "      <td>69.550</td>\n",
       "      <td>NaN</td>\n",
       "      <td>S</td>\n",
       "    </tr>\n",
       "  </tbody>\n",
       "</table>\n",
       "</div>"
      ],
      "text/plain": [
       "     PassengerId  Survived  Pclass                               Name     Sex  \\\n",
       "256          257         1       1     Thorne, Mrs. Gertrude Maybelle  female   \n",
       "244          245         0       3               Attalah, Mr. Sleiman    male   \n",
       "863          864         0       3  Sage, Miss. Dorothy Edith \"Dolly\"  female   \n",
       "\n",
       "      Age  SibSp  Parch    Ticket    Fare Cabin Embarked  \n",
       "256   NaN      0      0  PC 17585  79.200   NaN        C  \n",
       "244  30.0      0      0      2694   7.225   NaN        C  \n",
       "863   NaN      8      2  CA. 2343  69.550   NaN        S  "
      ]
     },
     "execution_count": 3,
     "metadata": {},
     "output_type": "execute_result"
    }
   ],
   "source": [
    "train.sample(3)"
   ]
  },
  {
   "cell_type": "code",
   "execution_count": 4,
   "metadata": {},
   "outputs": [
    {
     "data": {
      "text/html": [
       "<div>\n",
       "<style scoped>\n",
       "    .dataframe tbody tr th:only-of-type {\n",
       "        vertical-align: middle;\n",
       "    }\n",
       "\n",
       "    .dataframe tbody tr th {\n",
       "        vertical-align: top;\n",
       "    }\n",
       "\n",
       "    .dataframe thead th {\n",
       "        text-align: right;\n",
       "    }\n",
       "</style>\n",
       "<table border=\"1\" class=\"dataframe\">\n",
       "  <thead>\n",
       "    <tr style=\"text-align: right;\">\n",
       "      <th></th>\n",
       "      <th>PassengerId</th>\n",
       "      <th>Pclass</th>\n",
       "      <th>Name</th>\n",
       "      <th>Sex</th>\n",
       "      <th>Age</th>\n",
       "      <th>SibSp</th>\n",
       "      <th>Parch</th>\n",
       "      <th>Ticket</th>\n",
       "      <th>Fare</th>\n",
       "      <th>Cabin</th>\n",
       "      <th>Embarked</th>\n",
       "    </tr>\n",
       "  </thead>\n",
       "  <tbody>\n",
       "    <tr>\n",
       "      <th>28</th>\n",
       "      <td>920</td>\n",
       "      <td>1</td>\n",
       "      <td>Brady, Mr. John Bertram</td>\n",
       "      <td>male</td>\n",
       "      <td>41.0</td>\n",
       "      <td>0</td>\n",
       "      <td>0</td>\n",
       "      <td>113054</td>\n",
       "      <td>30.500</td>\n",
       "      <td>A21</td>\n",
       "      <td>S</td>\n",
       "    </tr>\n",
       "    <tr>\n",
       "      <th>306</th>\n",
       "      <td>1198</td>\n",
       "      <td>1</td>\n",
       "      <td>Allison, Mr. Hudson Joshua Creighton</td>\n",
       "      <td>male</td>\n",
       "      <td>30.0</td>\n",
       "      <td>1</td>\n",
       "      <td>2</td>\n",
       "      <td>113781</td>\n",
       "      <td>151.550</td>\n",
       "      <td>C22 C26</td>\n",
       "      <td>S</td>\n",
       "    </tr>\n",
       "    <tr>\n",
       "      <th>210</th>\n",
       "      <td>1102</td>\n",
       "      <td>3</td>\n",
       "      <td>Andersen, Mr. Albert Karvin</td>\n",
       "      <td>male</td>\n",
       "      <td>32.0</td>\n",
       "      <td>0</td>\n",
       "      <td>0</td>\n",
       "      <td>C 4001</td>\n",
       "      <td>22.525</td>\n",
       "      <td>NaN</td>\n",
       "      <td>S</td>\n",
       "    </tr>\n",
       "  </tbody>\n",
       "</table>\n",
       "</div>"
      ],
      "text/plain": [
       "     PassengerId  Pclass                                  Name   Sex   Age  \\\n",
       "28           920       1               Brady, Mr. John Bertram  male  41.0   \n",
       "306         1198       1  Allison, Mr. Hudson Joshua Creighton  male  30.0   \n",
       "210         1102       3           Andersen, Mr. Albert Karvin  male  32.0   \n",
       "\n",
       "     SibSp  Parch  Ticket     Fare    Cabin Embarked  \n",
       "28       0      0  113054   30.500      A21        S  \n",
       "306      1      2  113781  151.550  C22 C26        S  \n",
       "210      0      0  C 4001   22.525      NaN        S  "
      ]
     },
     "execution_count": 4,
     "metadata": {},
     "output_type": "execute_result"
    }
   ],
   "source": [
    "test.sample(3)"
   ]
  },
  {
   "cell_type": "code",
   "execution_count": 5,
   "metadata": {},
   "outputs": [],
   "source": [
    "train['Sex'] = train['Sex'].map({'male':1, 'female':0})\n",
    "dummies = pd.get_dummies(train[['Embarked', 'Pclass']].astype(object), prefix=['Embarked', 'Pclass'])\n",
    "train = pd.concat([train, dummies], axis=1)"
   ]
  },
  {
   "cell_type": "markdown",
   "metadata": {},
   "source": [
    "#### Age, SibSp, Parch, Fare"
   ]
  },
  {
   "cell_type": "code",
   "execution_count": 6,
   "metadata": {},
   "outputs": [
    {
     "data": {
      "text/html": [
       "<div>\n",
       "<style scoped>\n",
       "    .dataframe tbody tr th:only-of-type {\n",
       "        vertical-align: middle;\n",
       "    }\n",
       "\n",
       "    .dataframe tbody tr th {\n",
       "        vertical-align: top;\n",
       "    }\n",
       "\n",
       "    .dataframe thead th {\n",
       "        text-align: right;\n",
       "    }\n",
       "</style>\n",
       "<table border=\"1\" class=\"dataframe\">\n",
       "  <thead>\n",
       "    <tr style=\"text-align: right;\">\n",
       "      <th></th>\n",
       "      <th>PassengerId</th>\n",
       "      <th>Survived</th>\n",
       "      <th>Pclass</th>\n",
       "      <th>Sex</th>\n",
       "      <th>Age</th>\n",
       "      <th>SibSp</th>\n",
       "      <th>Parch</th>\n",
       "      <th>Fare</th>\n",
       "      <th>Embarked_C</th>\n",
       "      <th>Embarked_Q</th>\n",
       "      <th>Embarked_S</th>\n",
       "      <th>Pclass_1</th>\n",
       "      <th>Pclass_2</th>\n",
       "      <th>Pclass_3</th>\n",
       "    </tr>\n",
       "  </thead>\n",
       "  <tbody>\n",
       "    <tr>\n",
       "      <th>count</th>\n",
       "      <td>891.000000</td>\n",
       "      <td>891.000000</td>\n",
       "      <td>891.000000</td>\n",
       "      <td>891.000000</td>\n",
       "      <td>714.000000</td>\n",
       "      <td>891.000000</td>\n",
       "      <td>891.000000</td>\n",
       "      <td>891.000000</td>\n",
       "      <td>891.000000</td>\n",
       "      <td>891.000000</td>\n",
       "      <td>891.000000</td>\n",
       "      <td>891.000000</td>\n",
       "      <td>891.000000</td>\n",
       "      <td>891.000000</td>\n",
       "    </tr>\n",
       "    <tr>\n",
       "      <th>mean</th>\n",
       "      <td>446.000000</td>\n",
       "      <td>0.383838</td>\n",
       "      <td>2.308642</td>\n",
       "      <td>0.647587</td>\n",
       "      <td>29.699118</td>\n",
       "      <td>0.523008</td>\n",
       "      <td>0.381594</td>\n",
       "      <td>32.204208</td>\n",
       "      <td>0.188552</td>\n",
       "      <td>0.086420</td>\n",
       "      <td>0.722783</td>\n",
       "      <td>0.242424</td>\n",
       "      <td>0.206510</td>\n",
       "      <td>0.551066</td>\n",
       "    </tr>\n",
       "    <tr>\n",
       "      <th>std</th>\n",
       "      <td>257.353842</td>\n",
       "      <td>0.486592</td>\n",
       "      <td>0.836071</td>\n",
       "      <td>0.477990</td>\n",
       "      <td>14.526497</td>\n",
       "      <td>1.102743</td>\n",
       "      <td>0.806057</td>\n",
       "      <td>49.693429</td>\n",
       "      <td>0.391372</td>\n",
       "      <td>0.281141</td>\n",
       "      <td>0.447876</td>\n",
       "      <td>0.428790</td>\n",
       "      <td>0.405028</td>\n",
       "      <td>0.497665</td>\n",
       "    </tr>\n",
       "    <tr>\n",
       "      <th>min</th>\n",
       "      <td>1.000000</td>\n",
       "      <td>0.000000</td>\n",
       "      <td>1.000000</td>\n",
       "      <td>0.000000</td>\n",
       "      <td>0.420000</td>\n",
       "      <td>0.000000</td>\n",
       "      <td>0.000000</td>\n",
       "      <td>0.000000</td>\n",
       "      <td>0.000000</td>\n",
       "      <td>0.000000</td>\n",
       "      <td>0.000000</td>\n",
       "      <td>0.000000</td>\n",
       "      <td>0.000000</td>\n",
       "      <td>0.000000</td>\n",
       "    </tr>\n",
       "    <tr>\n",
       "      <th>25%</th>\n",
       "      <td>223.500000</td>\n",
       "      <td>0.000000</td>\n",
       "      <td>2.000000</td>\n",
       "      <td>0.000000</td>\n",
       "      <td>20.125000</td>\n",
       "      <td>0.000000</td>\n",
       "      <td>0.000000</td>\n",
       "      <td>7.910400</td>\n",
       "      <td>0.000000</td>\n",
       "      <td>0.000000</td>\n",
       "      <td>0.000000</td>\n",
       "      <td>0.000000</td>\n",
       "      <td>0.000000</td>\n",
       "      <td>0.000000</td>\n",
       "    </tr>\n",
       "    <tr>\n",
       "      <th>50%</th>\n",
       "      <td>446.000000</td>\n",
       "      <td>0.000000</td>\n",
       "      <td>3.000000</td>\n",
       "      <td>1.000000</td>\n",
       "      <td>28.000000</td>\n",
       "      <td>0.000000</td>\n",
       "      <td>0.000000</td>\n",
       "      <td>14.454200</td>\n",
       "      <td>0.000000</td>\n",
       "      <td>0.000000</td>\n",
       "      <td>1.000000</td>\n",
       "      <td>0.000000</td>\n",
       "      <td>0.000000</td>\n",
       "      <td>1.000000</td>\n",
       "    </tr>\n",
       "    <tr>\n",
       "      <th>75%</th>\n",
       "      <td>668.500000</td>\n",
       "      <td>1.000000</td>\n",
       "      <td>3.000000</td>\n",
       "      <td>1.000000</td>\n",
       "      <td>38.000000</td>\n",
       "      <td>1.000000</td>\n",
       "      <td>0.000000</td>\n",
       "      <td>31.000000</td>\n",
       "      <td>0.000000</td>\n",
       "      <td>0.000000</td>\n",
       "      <td>1.000000</td>\n",
       "      <td>0.000000</td>\n",
       "      <td>0.000000</td>\n",
       "      <td>1.000000</td>\n",
       "    </tr>\n",
       "    <tr>\n",
       "      <th>max</th>\n",
       "      <td>891.000000</td>\n",
       "      <td>1.000000</td>\n",
       "      <td>3.000000</td>\n",
       "      <td>1.000000</td>\n",
       "      <td>80.000000</td>\n",
       "      <td>8.000000</td>\n",
       "      <td>6.000000</td>\n",
       "      <td>512.329200</td>\n",
       "      <td>1.000000</td>\n",
       "      <td>1.000000</td>\n",
       "      <td>1.000000</td>\n",
       "      <td>1.000000</td>\n",
       "      <td>1.000000</td>\n",
       "      <td>1.000000</td>\n",
       "    </tr>\n",
       "  </tbody>\n",
       "</table>\n",
       "</div>"
      ],
      "text/plain": [
       "       PassengerId    Survived      Pclass         Sex         Age  \\\n",
       "count   891.000000  891.000000  891.000000  891.000000  714.000000   \n",
       "mean    446.000000    0.383838    2.308642    0.647587   29.699118   \n",
       "std     257.353842    0.486592    0.836071    0.477990   14.526497   \n",
       "min       1.000000    0.000000    1.000000    0.000000    0.420000   \n",
       "25%     223.500000    0.000000    2.000000    0.000000   20.125000   \n",
       "50%     446.000000    0.000000    3.000000    1.000000   28.000000   \n",
       "75%     668.500000    1.000000    3.000000    1.000000   38.000000   \n",
       "max     891.000000    1.000000    3.000000    1.000000   80.000000   \n",
       "\n",
       "            SibSp       Parch        Fare  Embarked_C  Embarked_Q  Embarked_S  \\\n",
       "count  891.000000  891.000000  891.000000  891.000000  891.000000  891.000000   \n",
       "mean     0.523008    0.381594   32.204208    0.188552    0.086420    0.722783   \n",
       "std      1.102743    0.806057   49.693429    0.391372    0.281141    0.447876   \n",
       "min      0.000000    0.000000    0.000000    0.000000    0.000000    0.000000   \n",
       "25%      0.000000    0.000000    7.910400    0.000000    0.000000    0.000000   \n",
       "50%      0.000000    0.000000   14.454200    0.000000    0.000000    1.000000   \n",
       "75%      1.000000    0.000000   31.000000    0.000000    0.000000    1.000000   \n",
       "max      8.000000    6.000000  512.329200    1.000000    1.000000    1.000000   \n",
       "\n",
       "         Pclass_1    Pclass_2    Pclass_3  \n",
       "count  891.000000  891.000000  891.000000  \n",
       "mean     0.242424    0.206510    0.551066  \n",
       "std      0.428790    0.405028    0.497665  \n",
       "min      0.000000    0.000000    0.000000  \n",
       "25%      0.000000    0.000000    0.000000  \n",
       "50%      0.000000    0.000000    1.000000  \n",
       "75%      0.000000    0.000000    1.000000  \n",
       "max      1.000000    1.000000    1.000000  "
      ]
     },
     "execution_count": 6,
     "metadata": {},
     "output_type": "execute_result"
    }
   ],
   "source": [
    "train.describe()"
   ]
  },
  {
   "cell_type": "code",
   "execution_count": 7,
   "metadata": {},
   "outputs": [
    {
     "data": {
      "text/plain": [
       "(array([ 62., 102., 220., 167.,  89.,  48.,  19.,   6.,   1.]),\n",
       " array([ 0, 10, 20, 30, 40, 50, 60, 70, 80, 90]),\n",
       " <a list of 9 Patch objects>)"
      ]
     },
     "execution_count": 7,
     "metadata": {},
     "output_type": "execute_result"
    },
    {
     "data": {
      "image/png": "[encoded data removed]",
      "text/plain": [
       "<Figure size 432x288 with 1 Axes>"
      ]
     },
     "metadata": {
      "needs_background": "light"
     },
     "output_type": "display_data"
    }
   ],
   "source": [
    "plt.hist(train['Age'], bins=[x for x in range(0, 91, 10)])"
   ]
  },
  {
   "cell_type": "code",
   "execution_count": 8,
   "metadata": {},
   "outputs": [],
   "source": [
    "train['Age_young'] = 0\n",
    "train['Age_old'] = 0\n",
    "train.loc[train['Age'] < 20, 'Age_young'] = 1\n",
    "train.loc[train['Age'] > 50, 'Age_old'] = 1"
   ]
  },
  {
   "cell_type": "code",
   "execution_count": 9,
   "metadata": {},
   "outputs": [
    {
     "data": {
      "text/plain": [
       "(array([608., 209.,  28.,  16.,  18.,   5.,   0.,   7.]),\n",
       " array([0, 1, 2, 3, 4, 5, 6, 7, 8]),\n",
       " <a list of 8 Patch objects>)"
      ]
     },
     "execution_count": 9,
     "metadata": {},
     "output_type": "execute_result"
    },
    {
     "data": {
      "image/png": "[encoded data removed]",
      "text/plain": [
       "<Figure size 432x288 with 1 Axes>"
      ]
     },
     "metadata": {
      "needs_background": "light"
     },
     "output_type": "display_data"
    }
   ],
   "source": [
    "plt.hist(train['SibSp'], edgecolor='black', bins=[0, 1, 2, 3, 4, 5, 6, 7, 8])"
   ]
  },
  {
   "cell_type": "code",
   "execution_count": 10,
   "metadata": {},
   "outputs": [],
   "source": [
    "train['SibSp_0'] = 0\n",
    "train['SibSP_1'] = 0\n",
    "train['SibSp_2_more'] = 0\n",
    "train.loc[train['SibSp'] == 0, 'SibSp_0'] = 1\n",
    "train.loc[train['SibSp'] == 1, 'SibSP_1'] = 1\n",
    "train.loc[train['SibSp'] >= 2, 'SibSp_2_more'] = 1"
   ]
  },
  {
   "cell_type": "code",
   "execution_count": 11,
   "metadata": {},
   "outputs": [
    {
     "data": {
      "text/plain": [
       "(array([678., 118.,  80.,   5.,   4.,   6.]),\n",
       " array([0, 1, 2, 3, 4, 5, 6]),\n",
       " <a list of 6 Patch objects>)"
      ]
     },
     "execution_count": 11,
     "metadata": {},
     "output_type": "execute_result"
    },
    {
     "data": {
      "image/png": "[encoded data removed]",
      "text/plain": [
       "<Figure size 432x288 with 1 Axes>"
      ]
     },
     "metadata": {
      "needs_background": "light"
     },
     "output_type": "display_data"
    }
   ],
   "source": [
    "plt.hist(train['Parch'], bins=[x for x in range(0, 7)], edgecolor='black')"
   ]
  },
  {
   "cell_type": "code",
   "execution_count": 12,
   "metadata": {},
   "outputs": [],
   "source": [
    "train['Parch_0'] = 0\n",
    "train['Parch_1_more'] = 0\n",
    "train.loc[train['Parch'] == 0, 'Parch_0'] = 1\n",
    "train.loc[train['Parch'] >= 1, 'Parch_1_more'] = 1"
   ]
  },
  {
   "cell_type": "code",
   "execution_count": 13,
   "metadata": {},
   "outputs": [
    {
     "data": {
      "text/plain": [
       "(0.0, 512.3292)"
      ]
     },
     "execution_count": 13,
     "metadata": {},
     "output_type": "execute_result"
    }
   ],
   "source": [
    "train[\"Fare\"].min(), train[\"Fare\"].max()"
   ]
  },
  {
   "cell_type": "code",
   "execution_count": 14,
   "metadata": {},
   "outputs": [
    {
     "data": {
      "image/png": "[encoded data removed]",
      "text/plain": [
       "<Figure size 1008x288 with 1 Axes>"
      ]
     },
     "metadata": {
      "needs_background": "light"
     },
     "output_type": "display_data"
    }
   ],
   "source": [
    "plt.figure(figsize=(14, 4))\n",
    "plt.hist(train['Fare'] , bins=[x for x in range(0, 515, 8)])\n",
    "plt.show()"
   ]
  },
  {
   "cell_type": "code",
   "execution_count": 15,
   "metadata": {},
   "outputs": [
    {
     "data": {
      "text/plain": [
       "((297,), (297,), (297,))"
      ]
     },
     "execution_count": 15,
     "metadata": {},
     "output_type": "execute_result"
    }
   ],
   "source": [
    "number = int(train.shape[0] / 3)\n",
    "fare = train['Fare'].sort_values()\n",
    "fare[:number].shape, fare[number:number*2].shape,\\\n",
    "fare[number*2:].shape"
   ]
  },
  {
   "cell_type": "code",
   "execution_count": 16,
   "metadata": {},
   "outputs": [
    {
     "data": {
      "text/plain": [
       "(7.293979797979798, 15.939029292929293, 73.37961481481481)"
      ]
     },
     "execution_count": 16,
     "metadata": {},
     "output_type": "execute_result"
    }
   ],
   "source": [
    "fare[:number].mean(), fare[number:number*2].mean(),\\\n",
    "fare[number*2:].mean()"
   ]
  },
  {
   "cell_type": "code",
   "execution_count": 17,
   "metadata": {},
   "outputs": [
    {
     "data": {
      "text/plain": [
       "(8.6625, 26.0)"
      ]
     },
     "execution_count": 17,
     "metadata": {},
     "output_type": "execute_result"
    }
   ],
   "source": [
    "fare[number-1:number].values[0], fare[number*2-1:number*2].values[0]"
   ]
  },
  {
   "cell_type": "code",
   "execution_count": 18,
   "metadata": {},
   "outputs": [],
   "source": [
    "train['Fare_low'] = 0\n",
    "train['Fare_middle'] = 0\n",
    "train['Fare_high'] = 0\n",
    "min_number = fare[number-1:number].values[0]\n",
    "middle_number = fare[number*2-1:number*2].values[0]\n",
    "train.loc[train['Fare'] >= min_number, 'Fare_low'] = 1\n",
    "train.loc[((train['Fare'] > min_number) & (train['Fare'] < middle_number)), 'Fare_middle'] = 1\n",
    "train.loc[train['Fare'] >= middle_number, 'Fare_high'] = 1"
   ]
  },
  {
   "cell_type": "markdown",
   "metadata": {},
   "source": [
    "#### Remained: \n",
    "- Name - there may be some insights but too many data manipulations are needed\n",
    "- Ticket - there may be some insights but too many data manipulations are needed\n",
    "- Cabin - too many missing values"
   ]
  },
  {
   "cell_type": "code",
   "execution_count": 19,
   "metadata": {},
   "outputs": [
    {
     "data": {
      "text/plain": [
       "Age         177\n",
       "Cabin       687\n",
       "Embarked      2\n",
       "dtype: int64"
      ]
     },
     "execution_count": 19,
     "metadata": {},
     "output_type": "execute_result"
    }
   ],
   "source": [
    "train.isna().sum()[train.isna().sum() > 0]"
   ]
  },
  {
   "cell_type": "code",
   "execution_count": 20,
   "metadata": {},
   "outputs": [
    {
     "data": {
      "text/plain": [
       "Survived        1.000000\n",
       "Sex             0.543351\n",
       "Pclass          0.338481\n",
       "Pclass_3        0.322308\n",
       "Pclass_1        0.285904\n",
       "Fare_high       0.262888\n",
       "Fare_low        0.261048\n",
       "Fare            0.257307\n",
       "SibSP_1         0.173076\n",
       "Embarked_C      0.168240\n",
       "Embarked_S      0.155660\n",
       "Parch_0         0.147408\n",
       "Parch_1_more    0.147408\n",
       "SibSp_0         0.115867\n",
       "Age_young       0.095582\n",
       "Pclass_2        0.093349\n",
       "Parch           0.081629\n",
       "Age             0.077221\n",
       "SibSp_2_more    0.070281\n",
       "SibSp           0.035322\n",
       "Age_old         0.022932\n",
       "Fare_middle     0.011989\n",
       "PassengerId     0.005007\n",
       "Embarked_Q      0.003650\n",
       "Name: Survived, dtype: float64"
      ]
     },
     "execution_count": 20,
     "metadata": {},
     "output_type": "execute_result"
    }
   ],
   "source": [
    "train.corr()['Survived'].abs().sort_values(ascending=False) "
   ]
  },
  {
   "cell_type": "code",
   "execution_count": 21,
   "metadata": {},
   "outputs": [],
   "source": [
    "variables = train.corr()['Survived'].abs().sort_values(ascending=False)\n",
    "variables = variables.drop(['Survived', 'Pclass', 'Fare', 'Parch', 'Age', 'SibSp', 'PassengerId',\n",
    "                            'Pclass_2', 'Fare_middle', 'Parch_0', 'Age_old', 'SibSp_2_more', 'Embarked_Q'])"
   ]
  },
  {
   "cell_type": "markdown",
   "metadata": {},
   "source": [
    "### Test data preparation"
   ]
  },
  {
   "cell_type": "code",
   "execution_count": 22,
   "metadata": {},
   "outputs": [],
   "source": [
    "test['Sex'] = test['Sex'].map({'male':1, 'female':0})\n",
    "dummies = pd.get_dummies(test[['Embarked', 'Pclass']].astype(object), prefix=['Embarked', 'Pclass'])\n",
    "test = pd.concat([test, dummies], axis=1)\n",
    "test['Age_young'] = 0\n",
    "test['Age_old'] = 0\n",
    "test.loc[test['Age'] < 20, 'Age_young'] = 1\n",
    "test.loc[test['Age'] > 50, 'Age_old'] = 1\n",
    "test['SibSp_0'] = 0\n",
    "test['SibSP_1'] = 0\n",
    "test['SibSp_2_more'] = 0\n",
    "test.loc[test['SibSp'] == 0, 'SibSp_0'] = 1\n",
    "test.loc[test['SibSp'] == 1, 'SibSP_1'] = 1\n",
    "test.loc[test['SibSp'] >= 2, 'SibSp_2_more'] = 1\n",
    "test['Parch_0'] = 0\n",
    "test['Parch_1_more'] = 0\n",
    "test.loc[test['Parch'] == 0, 'Parch_0'] = 1\n",
    "test.loc[test['Parch'] >= 1, 'Parch_1_more'] = 1\n",
    "number = int(test.shape[0] / 3)\n",
    "fare = test['Fare'].sort_values()\n",
    "test['Fare_low'] = 0\n",
    "test['Fare_middle'] = 0\n",
    "test['Fare_high'] = 0\n",
    "min_number = fare[number-1:number].values[0]\n",
    "middle_number = fare[number*2-1:number*2].values[0]\n",
    "test.loc[test['Fare'] >= min_number, 'Fare_low'] = 1\n",
    "test.loc[((test['Fare'] > min_number) & (test['Fare'] < middle_number)), 'Fare_middle'] = 1\n",
    "test.loc[test['Fare'] >= middle_number, 'Fare_high'] = 1"
   ]
  },
  {
   "cell_type": "markdown",
   "metadata": {},
   "source": [
    "### Train and test data"
   ]
  },
  {
   "cell_type": "code",
   "execution_count": 23,
   "metadata": {},
   "outputs": [],
   "source": [
    "X_train = train[variables.index]\n",
    "X_test = test[variables.index]\n",
    "y_train = train['Survived'].values"
   ]
  },
  {
   "cell_type": "code",
   "execution_count": 24,
   "metadata": {},
   "outputs": [],
   "source": [
    "from sklearn.preprocessing import StandardScaler"
   ]
  },
  {
   "cell_type": "code",
   "execution_count": 25,
   "metadata": {},
   "outputs": [
    {
     "data": {
      "text/plain": [
       "((891, 11), (891,), (418, 11))"
      ]
     },
     "execution_count": 25,
     "metadata": {},
     "output_type": "execute_result"
    }
   ],
   "source": [
    "scaler = StandardScaler()\n",
    "X_train = scaler.fit_transform(X_train)\n",
    "X_test = scaler.transform(X_test)\n",
    "y_train = train['Survived'].values\n",
    "X_train.shape, y_train.shape, X_test.shape"
   ]
  },
  {
   "cell_type": "markdown",
   "metadata": {},
   "source": [
    "## Models training"
   ]
  },
  {
   "cell_type": "markdown",
   "metadata": {},
   "source": [
    "### Import of models"
   ]
  },
  {
   "cell_type": "code",
   "execution_count": 26,
   "metadata": {},
   "outputs": [],
   "source": [
    "from sklearn.tree import DecisionTreeClassifier\n",
    "from sklearn.ensemble import RandomForestClassifier\n",
    "from sklearn.linear_model import LogisticRegression\n",
    "from sklearn.svm import SVC\n",
    "from sklearn.neighbors import KNeighborsClassifier\n",
    "from catboost import CatBoostClassifier\n",
    "from xgboost import XGBClassifier\n",
    "from lightgbm import LGBMClassifier"
   ]
  },
  {
   "cell_type": "markdown",
   "metadata": {},
   "source": [
    "### General pipeline"
   ]
  },
  {
   "cell_type": "markdown",
   "metadata": {},
   "source": [
    "#### Import of accuracy and cross-validation functions"
   ]
  },
  {
   "cell_type": "code",
   "execution_count": 27,
   "metadata": {},
   "outputs": [],
   "source": [
    "from sklearn.metrics import accuracy_score\n",
    "from sklearn.model_selection import KFold, GridSearchCV, cross_val_score"
   ]
  },
  {
   "cell_type": "code",
   "execution_count": 28,
   "metadata": {},
   "outputs": [],
   "source": [
    "random_state = 13\n",
    "# models to train\n",
    "models = [DecisionTreeClassifier(random_state=random_state), RandomForestClassifier(random_state=random_state),\n",
    "          LogisticRegression(random_state=random_state), SVC(random_state=random_state),\n",
    "          KNeighborsClassifier(), # dont have random state. At least it did not work\n",
    "          CatBoostClassifier(random_state=random_state, verbose=0),\n",
    "          XGBClassifier(random_state=random_state), LGBMClassifier(random_state=random_state)]\n",
    "# parameters to put in GridSearchCV for each model\n",
    "params_grids = {'DecisionTreeClassier':{'criterion': ['gini', 'entropy']}, \n",
    "               'RandomForestClassifier':{'n_estimators': [5, 15, 50, 100, 200, 300], 'criterion': ['gini', 'entropy']},\n",
    "               'LogisticRegression': {'C': [1, 5, 100, 500, 1000, 10000]}, \n",
    "               'SVC': {'C': [1, 5, 100, 500, 1000], 'kernel': ['rbf', 'sigmoid', 'poly']},\n",
    "               'KNeighborsClassifier': {'n_neighbors':[x for x in range(1, 26)], 'weights': ['uniform', 'distance']},\n",
    "               'CatBoostClassifier': {'iterations': [x for x in range(5, 31, 5)],\n",
    "                                      'learning_rate': [0.01, 0.03,  0.05, 0.07, 0.1]},\n",
    "               'XGBClassifier': {'iteration': [x for x in range(5, 31, 5)],\n",
    "                                 'learning_rate':[0.01, 0.03,  0.05, 0.07, 0.1]}, \n",
    "               'LGBMClassifier': {'iteration': [x for x in range(5, 31, 5)],\n",
    "                                 'learning_rate':[0.01, 0.03,  0.05, 0.07, 0.1]}}\n",
    "# Cross-validation parameters\n",
    "kf = KFold(n_splits=5, shuffle=True)"
   ]
  },
  {
   "cell_type": "markdown",
   "metadata": {},
   "source": [
    "#### Main loop for models training and cross-validation"
   ]
  },
  {
   "cell_type": "code",
   "execution_count": 35,
   "metadata": {},
   "outputs": [
    {
     "name": "stdout",
     "output_type": "stream",
     "text": [
      "Training DecisionTreeClassier on 5 Kfold cv and params from param_grid took 1.72 seconds\n",
      "Training RandomForestClassifier on 5 Kfold cv and params from param_grid took 5.88 seconds\n",
      "Training LogisticRegression on 5 Kfold cv and params from param_grid took 0.19 seconds\n",
      "Training SVC on 5 Kfold cv and params from param_grid took 0.78 seconds\n",
      "Training KNeighborsClassifier on 5 Kfold cv and params from param_grid took 0.99 seconds\n",
      "Training CatBoostClassifier on 5 Kfold cv and params from param_grid took 51.06 seconds\n",
      "Training XGBClassifier on 5 Kfold cv and params from param_grid took 5.75 seconds\n",
      "Training LGBMClassifier on 5 Kfold cv and params from param_grid took 2.53 seconds\n"
     ]
    }
   ],
   "source": [
    "best_scores = {'DecisionTreeClassier':0, 'RandomForestClassifier':0, 'LogisticRegression':0, \n",
    "                   'SVC': 0, 'KNeighborsClassifier':0, 'CatBoostClassifier':0, \n",
    "                   'XGBClassifier':0, 'LGBMClassifier':0}\n",
    "best_models = {'DecisionTreeClassier':0, 'RandomForestClassifier':0, 'LogisticRegression':0, \n",
    "                   'SVC': 0, 'KNeighborsClassifier':0, 'CatBoostClassifier':0, \n",
    "                   'XGBClassifier':0, 'LGBMClassifier':0}\n",
    "\n",
    "for model, param_grid, estimator in zip(models, params_grids, best_scores):\n",
    "    start = time.time()\n",
    "    gs = GridSearchCV(model, params_grids[param_grid], scoring='accuracy', cv=kf, verbose=0, n_jobs=6)\n",
    "    gs.fit(X_train, y_train)\n",
    "    best_scores[estimator] = gs.best_score_\n",
    "    best_models[estimator] = gs.best_estimator_\n",
    "    print('Training', estimator, 'on 5 Kfold cv and params from param_grid took', round(time.time() - start, 2),\n",
    "          'seconds')"
   ]
  },
  {
   "cell_type": "code",
   "execution_count": 36,
   "metadata": {},
   "outputs": [
    {
     "data": {
      "text/plain": [
       "{'DecisionTreeClassier': 0.812560416797439,\n",
       " 'RandomForestClassifier': 0.8204130311970372,\n",
       " 'LogisticRegression': 0.7901073378946707,\n",
       " 'SVC': 0.8170547988199107,\n",
       " 'KNeighborsClassifier': 0.804701525327977,\n",
       " 'CatBoostClassifier': 0.8136902893729208,\n",
       " 'XGBClassifier': 0.8069236080597578,\n",
       " 'LGBMClassifier': 0.8069612704789405}"
      ]
     },
     "execution_count": 36,
     "metadata": {},
     "output_type": "execute_result"
    }
   ],
   "source": [
    "best_scores"
   ]
  },
  {
   "cell_type": "code",
   "execution_count": 38,
   "metadata": {},
   "outputs": [
    {
     "data": {
      "text/plain": [
       "{'DecisionTreeClassier': DecisionTreeClassifier(ccp_alpha=0.0, class_weight=None, criterion='gini',\n",
       "                        max_depth=None, max_features=None, max_leaf_nodes=None,\n",
       "                        min_impurity_decrease=0.0, min_impurity_split=None,\n",
       "                        min_samples_leaf=1, min_samples_split=2,\n",
       "                        min_weight_fraction_leaf=0.0, presort='deprecated',\n",
       "                        random_state=13, splitter='best'),\n",
       " 'RandomForestClassifier': RandomForestClassifier(bootstrap=True, ccp_alpha=0.0, class_weight=None,\n",
       "                        criterion='entropy', max_depth=None, max_features='auto',\n",
       "                        max_leaf_nodes=None, max_samples=None,\n",
       "                        min_impurity_decrease=0.0, min_impurity_split=None,\n",
       "                        min_samples_leaf=1, min_samples_split=2,\n",
       "                        min_weight_fraction_leaf=0.0, n_estimators=15,\n",
       "                        n_jobs=None, oob_score=False, random_state=13, verbose=0,\n",
       "                        warm_start=False),\n",
       " 'LogisticRegression': LogisticRegression(C=5, class_weight=None, dual=False, fit_intercept=True,\n",
       "                    intercept_scaling=1, l1_ratio=None, max_iter=100,\n",
       "                    multi_class='auto', n_jobs=None, penalty='l2',\n",
       "                    random_state=13, solver='lbfgs', tol=0.0001, verbose=0,\n",
       "                    warm_start=False),\n",
       " 'SVC': SVC(C=1, break_ties=False, cache_size=200, class_weight=None, coef0=0.0,\n",
       "     decision_function_shape='ovr', degree=3, gamma='scale', kernel='poly',\n",
       "     max_iter=-1, probability=False, random_state=13, shrinking=True, tol=0.001,\n",
       "     verbose=False),\n",
       " 'KNeighborsClassifier': KNeighborsClassifier(algorithm='auto', leaf_size=30, metric='minkowski',\n",
       "                      metric_params=None, n_jobs=None, n_neighbors=4, p=2,\n",
       "                      weights='distance'),\n",
       " 'CatBoostClassifier': <catboost.core.CatBoostClassifier at 0x1fa8df79b00>,\n",
       " 'XGBClassifier': XGBClassifier(base_score=0.5, booster='gbtree', colsample_bylevel=1,\n",
       "               colsample_bytree=1, gamma=0, iteration=5, learning_rate=0.05,\n",
       "               max_delta_step=0, max_depth=3, min_child_weight=1, missing=None,\n",
       "               n_estimators=100, n_jobs=1, nthread=None,\n",
       "               objective='binary:logistic', random_state=13, reg_alpha=0,\n",
       "               reg_lambda=1, scale_pos_weight=1, seed=None, silent=True,\n",
       "               subsample=1),\n",
       " 'LGBMClassifier': LGBMClassifier(boosting_type='gbdt', class_weight=None, colsample_bytree=1.0,\n",
       "                importance_type='split', iteration=5, learning_rate=0.01,\n",
       "                max_depth=-1, min_child_samples=20, min_child_weight=0.001,\n",
       "                min_split_gain=0.0, n_estimators=100, n_jobs=-1, num_leaves=31,\n",
       "                objective=None, random_state=13, reg_alpha=0.0, reg_lambda=0.0,\n",
       "                silent=True, subsample=1.0, subsample_for_bin=200000,\n",
       "                subsample_freq=0)}"
      ]
     },
     "execution_count": 38,
     "metadata": {},
     "output_type": "execute_result"
    }
   ],
   "source": [
    "best_models"
   ]
  },
  {
   "cell_type": "markdown",
   "metadata": {},
   "source": [
    "#### Answers writing to the files"
   ]
  },
  {
   "cell_type": "code",
   "execution_count": 37,
   "metadata": {},
   "outputs": [],
   "source": [
    "for i in best_models:\n",
    "    if i != 'CatBoostClassifier':\n",
    "        preds = best_models[i].predict(X_test)\n",
    "        submit = pd.DataFrame(test['PassengerId'])\n",
    "        submit['Survived'] = preds\n",
    "        submit.to_csv(i + '_NEW_many_vars_GridSearch_CV.csv', index=False)\n",
    "    else:\n",
    "        preds = best_models[i].predict(X_test)\n",
    "        submit = pd.DataFrame(test['PassengerId'])\n",
    "        submit['Survived'] = preds\n",
    "        submit['Survived'] = submit['Survived'].astype(int)\n",
    "        submit.to_csv(i + '_NEW_many_vars_GridSearch_CV.csv', index=False)"
   ]
  },
  {
   "cell_type": "markdown",
   "metadata": {},
   "source": [
    "## In the end the best model performance on the test dataset was achieved via XGBoostClassifier and CatBoostClassifier models with equal score of 0.79186. TOP-9% on Kaggle leaderboard"
   ]
  }
 ],
 "metadata": {
  "kernelspec": {
   "display_name": "Python 3",
   "language": "python",
   "name": "python3"
  },
  "language_info": {
   "codemirror_mode": {
    "name": "ipython",
    "version": 3
   },
   "file_extension": ".py",
   "mimetype": "text/x-python",
   "name": "python",
   "nbconvert_exporter": "python",
   "pygments_lexer": "ipython3",
   "version": "3.6.5"
  }
 },
 "nbformat": 4,
 "nbformat_minor": 4
}
